{
  "metadata": {
    "language_info": {
      "codemirror_mode": {
        "name": "python",
        "version": 3
      },
      "file_extension": ".py",
      "mimetype": "text/x-python",
      "name": "python",
      "nbconvert_exporter": "python",
      "pygments_lexer": "ipython3",
      "version": "3.8"
    },
    "kernelspec": {
      "name": "python",
      "display_name": "Python (Pyodide)",
      "language": "python"
    }
  },
  "nbformat_minor": 4,
  "nbformat": 4,
  "cells": [
    {
      "cell_type": "markdown",
      "source": "# My Jupyter Notebook on IBM Watson Studio #",
      "metadata": {
        "trusted": true
      }
    },
    {
      "cell_type": "markdown",
      "source": "**Hassane Dabai**",
      "metadata": {
        "trusted": true
      }
    },
    {
      "cell_type": "markdown",
      "source": "** _I want to become a Data Scientist_ **",
      "metadata": {
        "trusted": true
      }
    },
    {
      "cell_type": "markdown",
      "source": "### This code is to calculate a basic operation ###",
      "metadata": {
        "trusted": true
      }
    },
    {
      "cell_type": "code",
      "source": "1 + 5",
      "metadata": {
        "trusted": true
      },
      "execution_count": 18,
      "outputs": [
        {
          "execution_count": 18,
          "output_type": "execute_result",
          "data": {
            "text/plain": "6"
          },
          "metadata": {}
        }
      ]
    },
    {
      "cell_type": "markdown",
      "source": "#### Personal Profile ####\n\nI would love to tel you a little about me:\n1. I like to study new things.  \n2. I like to share my data science experince here.\n3. I like to explore more about tips and tricks.  \n\nI will be very happy to receive your [massage]\n[Here is my personal wesite:](http://softiq.play.ai \"SOFTIQ Information Technology\").\n\n__Special Thanks:__\n\n![](https://d3njjcbhbojbot.cloudfront.net/api/utilities/v1/imageproxy/https://coursera-university-assets.s3.amazonaws.com/5c/2703e0f96611e6900f1d521d8bd16e/kiron_logo.png?auto=format%2Ccompress&dpr=1&w=160&h=32 \"Kiron\")\n\n[massage]: mailto:dr.dabai@gmail.com\n",
      "metadata": {
        "trusted": true
      }
    },
    {
      "cell_type": "code",
      "source": "",
      "metadata": {
        "trusted": true
      },
      "execution_count": null,
      "outputs": []
    }
  ]
}
